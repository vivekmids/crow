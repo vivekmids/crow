{
 "cells": [
  {
   "cell_type": "code",
   "execution_count": 1,
   "metadata": {},
   "outputs": [],
   "source": [
    "%matplotlib inline\n",
    "import matplotlib.pyplot as plt\n",
    "import json\n",
    "import pandas as pd\n",
    "import numpy as np\n",
    "from PIL import Image\n",
    "\n",
    "import tensorflow as tf\n",
    "#tf.enable_eager_execution()\n",
    "#import tensorflow.contrib.eager as tfe\n",
    "import sys\n",
    "import os\n",
    "from sklearn.utils import shuffle\n",
    "from random import sample\n",
    "# from cache import cache\n",
    "# import pydot\n",
    "# import graphviz\n",
    "# from sklearn.model_selection import train_test_split\n",
    "import time\n",
    "import pickle\n",
    "from tqdm import tqdm\n",
    "# import copy\n",
    "# import re\n",
    "# import random\n",
    "import requests"
   ]
  },
  {
   "cell_type": "code",
   "execution_count": 2,
   "metadata": {},
   "outputs": [],
   "source": [
    "from tensorflow.python.keras import backend as K\n",
    "from tensorflow.python.keras.models import Model\n",
    "from tensorflow.python.keras.layers import Input, Dense, Dropout, Activation, Flatten, Reshape, \\\n",
    "BatchNormalization, GlobalAveragePooling2D, Conv2D\n",
    "from tensorflow.python.keras.applications.vgg16 import VGG16\n",
    "from tensorflow.python.keras.applications.vgg16 import preprocess_input as VGG16_preprocess_input\n",
    "from tensorflow.python.keras.applications.inception_v3 import InceptionV3\n",
    "from tensorflow.python.keras.applications.inception_v3 import preprocess_input\n",
    "from tensorflow.python.keras.applications.inception_v3 import decode_predictions\n",
    "from tensorflow.python.keras.preprocessing import image\n",
    "from tensorflow.python.keras.optimizers import RMSprop\n",
    "from tensorflow.python.keras.callbacks import ModelCheckpoint, TensorBoard\n",
    "#from tensorflow.python.keras.utils import plot_model\n",
    "#from tensorflow.python.keras.utils import to_categorical"
   ]
  },
  {
   "cell_type": "code",
   "execution_count": 3,
   "metadata": {},
   "outputs": [
    {
     "data": {
      "text/plain": [
       "'2.1.0'"
      ]
     },
     "execution_count": 3,
     "metadata": {},
     "output_type": "execute_result"
    }
   ],
   "source": [
    "tf.__version__"
   ]
  },
  {
   "cell_type": "code",
   "execution_count": 4,
   "metadata": {},
   "outputs": [
    {
     "data": {
      "text/plain": [
       "'2.2.4-tf'"
      ]
     },
     "execution_count": 4,
     "metadata": {},
     "output_type": "execute_result"
    }
   ],
   "source": [
    "tf.keras.__version__"
   ]
  },
  {
   "cell_type": "code",
   "execution_count": 5,
   "metadata": {},
   "outputs": [
    {
     "name": "stdout",
     "output_type": "stream",
     "text": [
      "[name: \"/device:CPU:0\"\n",
      "device_type: \"CPU\"\n",
      "memory_limit: 268435456\n",
      "locality {\n",
      "}\n",
      "incarnation: 9412496019269643692\n",
      ", name: \"/device:XLA_CPU:0\"\n",
      "device_type: \"XLA_CPU\"\n",
      "memory_limit: 17179869184\n",
      "locality {\n",
      "}\n",
      "incarnation: 1402284396844752833\n",
      "physical_device_desc: \"device: XLA_CPU device\"\n",
      ", name: \"/device:XLA_GPU:0\"\n",
      "device_type: \"XLA_GPU\"\n",
      "memory_limit: 17179869184\n",
      "locality {\n",
      "}\n",
      "incarnation: 166152630075567611\n",
      "physical_device_desc: \"device: XLA_GPU device\"\n",
      "]\n"
     ]
    }
   ],
   "source": [
    "from tensorflow.python.client import device_lib\n",
    "print(device_lib.list_local_devices())"
   ]
  },
  {
   "cell_type": "code",
   "execution_count": 6,
   "metadata": {},
   "outputs": [
    {
     "name": "stdout",
     "output_type": "stream",
     "text": [
      "True\n"
     ]
    }
   ],
   "source": [
    "print(tf.test.is_built_with_cuda())"
   ]
  },
  {
   "cell_type": "markdown",
   "metadata": {},
   "source": [
    "# Load Data for Modeling"
   ]
  },
  {
   "cell_type": "code",
   "execution_count": 7,
   "metadata": {},
   "outputs": [
    {
     "data": {
      "text/html": [
       "<div>\n",
       "<style scoped>\n",
       "    .dataframe tbody tr th:only-of-type {\n",
       "        vertical-align: middle;\n",
       "    }\n",
       "\n",
       "    .dataframe tbody tr th {\n",
       "        vertical-align: top;\n",
       "    }\n",
       "\n",
       "    .dataframe thead th {\n",
       "        text-align: right;\n",
       "    }\n",
       "</style>\n",
       "<table border=\"1\" class=\"dataframe\">\n",
       "  <thead>\n",
       "    <tr style=\"text-align: right;\">\n",
       "      <th></th>\n",
       "      <th>image_id</th>\n",
       "      <th>seq_num_frames</th>\n",
       "      <th>date_captured</th>\n",
       "      <th>seq_id</th>\n",
       "      <th>height</th>\n",
       "      <th>width</th>\n",
       "      <th>location</th>\n",
       "      <th>rights_holder</th>\n",
       "      <th>file_name</th>\n",
       "      <th>frame_num</th>\n",
       "      <th>id</th>\n",
       "      <th>category_id</th>\n",
       "      <th>category_name</th>\n",
       "    </tr>\n",
       "  </thead>\n",
       "  <tbody>\n",
       "    <tr>\n",
       "      <td>0</td>\n",
       "      <td>5858bf1e-23d2-11e8-a6a3-ec086b02610b</td>\n",
       "      <td>1</td>\n",
       "      <td>2014-07-10 14:20:20</td>\n",
       "      <td>6fc5ac4a-5567-11e8-b3db-dca9047ef277</td>\n",
       "      <td>1494</td>\n",
       "      <td>2048</td>\n",
       "      <td>96</td>\n",
       "      <td>Erin Boydston</td>\n",
       "      <td>test/5858bf1e-23d2-11e8-a6a3-ec086b02610b.jpg</td>\n",
       "      <td>1</td>\n",
       "      <td>52acca15-7d6d-11e7-884d-7845c41c2c67</td>\n",
       "      <td>30</td>\n",
       "      <td>empty</td>\n",
       "    </tr>\n",
       "    <tr>\n",
       "      <td>1</td>\n",
       "      <td>5858bf20-23d2-11e8-a6a3-ec086b02610b</td>\n",
       "      <td>1</td>\n",
       "      <td>2014-05-26 13:44:00</td>\n",
       "      <td>6fbb3c73-5567-11e8-b378-dca9047ef277</td>\n",
       "      <td>1494</td>\n",
       "      <td>2048</td>\n",
       "      <td>96</td>\n",
       "      <td>Erin Boydston</td>\n",
       "      <td>test/5858bf20-23d2-11e8-a6a3-ec086b02610b.jpg</td>\n",
       "      <td>1</td>\n",
       "      <td>f77c64a8-7d6e-11e7-884d-7845c41c2c67</td>\n",
       "      <td>30</td>\n",
       "      <td>empty</td>\n",
       "    </tr>\n",
       "    <tr>\n",
       "      <td>2</td>\n",
       "      <td>5858bf21-23d2-11e8-a6a3-ec086b02610b</td>\n",
       "      <td>1</td>\n",
       "      <td>2014-09-16 08:16:51</td>\n",
       "      <td>7006f717-5567-11e8-b4c6-dca9047ef277</td>\n",
       "      <td>1494</td>\n",
       "      <td>2048</td>\n",
       "      <td>114</td>\n",
       "      <td>Erin Boydston</td>\n",
       "      <td>test/5858bf21-23d2-11e8-a6a3-ec086b02610b.jpg</td>\n",
       "      <td>1</td>\n",
       "      <td>1aa83e59-7d71-11e7-884d-7845c41c2c67</td>\n",
       "      <td>10</td>\n",
       "      <td>rabbit</td>\n",
       "    </tr>\n",
       "    <tr>\n",
       "      <td>3</td>\n",
       "      <td>5858bf22-23d2-11e8-a6a3-ec086b02610b</td>\n",
       "      <td>1</td>\n",
       "      <td>2014-05-27 14:57:44</td>\n",
       "      <td>6fbd60e3-5567-11e8-a122-dca9047ef277</td>\n",
       "      <td>1494</td>\n",
       "      <td>2048</td>\n",
       "      <td>96</td>\n",
       "      <td>Erin Boydston</td>\n",
       "      <td>test/5858bf22-23d2-11e8-a6a3-ec086b02610b.jpg</td>\n",
       "      <td>1</td>\n",
       "      <td>45913ae8-7d6d-11e7-884d-7845c41c2c67</td>\n",
       "      <td>30</td>\n",
       "      <td>empty</td>\n",
       "    </tr>\n",
       "    <tr>\n",
       "      <td>4</td>\n",
       "      <td>5858bf23-23d2-11e8-a6a3-ec086b02610b</td>\n",
       "      <td>1</td>\n",
       "      <td>2014-06-06 12:31:06</td>\n",
       "      <td>6fbf5a47-5567-11e8-9655-dca9047ef277</td>\n",
       "      <td>1494</td>\n",
       "      <td>2048</td>\n",
       "      <td>96</td>\n",
       "      <td>Erin Boydston</td>\n",
       "      <td>test/5858bf23-23d2-11e8-a6a3-ec086b02610b.jpg</td>\n",
       "      <td>1</td>\n",
       "      <td>5f7e6e7a-7d6e-11e7-884d-7845c41c2c67</td>\n",
       "      <td>30</td>\n",
       "      <td>empty</td>\n",
       "    </tr>\n",
       "  </tbody>\n",
       "</table>\n",
       "</div>"
      ],
      "text/plain": [
       "                               image_id  seq_num_frames        date_captured  \\\n",
       "0  5858bf1e-23d2-11e8-a6a3-ec086b02610b               1  2014-07-10 14:20:20   \n",
       "1  5858bf20-23d2-11e8-a6a3-ec086b02610b               1  2014-05-26 13:44:00   \n",
       "2  5858bf21-23d2-11e8-a6a3-ec086b02610b               1  2014-09-16 08:16:51   \n",
       "3  5858bf22-23d2-11e8-a6a3-ec086b02610b               1  2014-05-27 14:57:44   \n",
       "4  5858bf23-23d2-11e8-a6a3-ec086b02610b               1  2014-06-06 12:31:06   \n",
       "\n",
       "                                 seq_id  height  width  location  \\\n",
       "0  6fc5ac4a-5567-11e8-b3db-dca9047ef277    1494   2048        96   \n",
       "1  6fbb3c73-5567-11e8-b378-dca9047ef277    1494   2048        96   \n",
       "2  7006f717-5567-11e8-b4c6-dca9047ef277    1494   2048       114   \n",
       "3  6fbd60e3-5567-11e8-a122-dca9047ef277    1494   2048        96   \n",
       "4  6fbf5a47-5567-11e8-9655-dca9047ef277    1494   2048        96   \n",
       "\n",
       "   rights_holder                                      file_name  frame_num  \\\n",
       "0  Erin Boydston  test/5858bf1e-23d2-11e8-a6a3-ec086b02610b.jpg          1   \n",
       "1  Erin Boydston  test/5858bf20-23d2-11e8-a6a3-ec086b02610b.jpg          1   \n",
       "2  Erin Boydston  test/5858bf21-23d2-11e8-a6a3-ec086b02610b.jpg          1   \n",
       "3  Erin Boydston  test/5858bf22-23d2-11e8-a6a3-ec086b02610b.jpg          1   \n",
       "4  Erin Boydston  test/5858bf23-23d2-11e8-a6a3-ec086b02610b.jpg          1   \n",
       "\n",
       "                                     id  category_id category_name  \n",
       "0  52acca15-7d6d-11e7-884d-7845c41c2c67           30         empty  \n",
       "1  f77c64a8-7d6e-11e7-884d-7845c41c2c67           30         empty  \n",
       "2  1aa83e59-7d71-11e7-884d-7845c41c2c67           10        rabbit  \n",
       "3  45913ae8-7d6d-11e7-884d-7845c41c2c67           30         empty  \n",
       "4  5f7e6e7a-7d6e-11e7-884d-7845c41c2c67           30         empty  "
      ]
     },
     "execution_count": 7,
     "metadata": {},
     "output_type": "execute_result"
    }
   ],
   "source": [
    "# get data from json\n",
    "with open(\"data/caltech_images_20190919.json\", 'r') as f:\n",
    "    annotations = json.load(f)\n",
    "\n",
    "annot_df = pd.DataFrame.from_dict(annotations['annotations'])\n",
    "image_df = pd.DataFrame.from_dict(annotations['images'])\n",
    "\n",
    "# get animal name map \n",
    "category_id = []\n",
    "category_name = []\n",
    "\n",
    "for i in annotations['categories']:\n",
    "    category_id.append(i['id'])\n",
    "    category_name.append(i['name'])\n",
    "    \n",
    "category_dict = dict(zip(category_id, category_name))\n",
    "annot_df['category_name'] = annot_df['category_id'].map(category_dict)\n",
    "\n",
    "# drop duplicate annotations\n",
    "annot_df.sort_values(\"image_id\", inplace = True) \n",
    "annot_df_nodup = annot_df.drop_duplicates(subset =\"image_id\", keep = 'first')\n",
    "\n",
    "# merge annotation and image data together\n",
    "image_df.rename(columns={\"id\": \"image_id\"}, inplace=True)\n",
    "image_df.sort_values(\"image_id\", inplace = True) \n",
    "image_df_annot = pd.concat([image_df.set_index('image_id'), annot_df_nodup.set_index('image_id')], axis=1, join='inner').reset_index()\n",
    "\n",
    "image_df_annot.head()"
   ]
  },
  {
   "cell_type": "markdown",
   "metadata": {},
   "source": [
    "# Show Image"
   ]
  },
  {
   "cell_type": "code",
   "execution_count": 8,
   "metadata": {},
   "outputs": [],
   "source": [
    "def load_image(path, size=None):\n",
    "    \"\"\"\n",
    "    Load the image from the given file-path and resize it\n",
    "    to the given size if not None.\n",
    "    \"\"\"\n",
    "\n",
    "    # Load the image using PIL.\n",
    "    img = Image.open(path)\n",
    "\n",
    "    # Resize image if desired.\n",
    "    if not size is None:\n",
    "        img = img.resize(size=size, resample=Image.LANCZOS)\n",
    "\n",
    "    # Convert image to numpy array.\n",
    "    img = np.array(img)\n",
    "\n",
    "    # Scale image-pixels so they fall between 0.0 and 1.0\n",
    "    img = img / 255.0\n",
    "\n",
    "    # Convert 2-dim gray-scale array to 3-dim RGB array.\n",
    "    if (len(img.shape) == 2):\n",
    "        img = np.repeat(img[:, :, np.newaxis], 3, axis=2)\n",
    "\n",
    "    return img\n",
    "\n",
    "def show_image(path, category):\n",
    "    \"\"\"\n",
    "    Load and plot an image from the training- or validation-set\n",
    "    with the given index.\n",
    "    \"\"\"\n",
    "\n",
    "    #path = filenames_train[idx]\n",
    "    #caption = captions_train[idx]\n",
    "\n",
    "    # Print the captions for this image.\n",
    "    print(\"Category: \" + category)\n",
    "    \n",
    "    # Load the image and plot it.\n",
    "    img = load_image(path)\n",
    "    plt.imshow(img)\n",
    "    plt.show()\n",
    "    \n",
    "def show_image_by_category(images=1, category = 'any'):\n",
    "    path = 'data/cct_images/'\n",
    "    if category == 'any':\n",
    "        samples = image_df_annot.sample(n=images)\n",
    "    else:\n",
    "        samples = image_df_annot[image_df_annot['category_name']==category].sample(n=images)\n",
    "    for id, sample in samples.iterrows():\n",
    "        image_id = sample['image_id']\n",
    "        filename= 'data/cct_images/'+image_id + '.jpg'\n",
    "        print(sample['category_name'] + \" \" + image_id)\n",
    "        img = load_image(filename)\n",
    "        plt.imshow(img)\n",
    "        plt.show()    "
   ]
  },
  {
   "cell_type": "markdown",
   "metadata": {},
   "source": [
    "# Define Prediction Class"
   ]
  },
  {
   "cell_type": "code",
   "execution_count": 10,
   "metadata": {},
   "outputs": [],
   "source": [
    "classes = ['rodent','squirrel','rabbit','bird','deer','raccoon','coyote','opossum']\n",
    "classes_dict = dict(zip(classes + ['other'] + ['empty'], range(10)))\n",
    "classes_dict_lookup = dict(zip(range(10), classes + ['other'] + ['empty']))"
   ]
  },
  {
   "cell_type": "code",
   "execution_count": 11,
   "metadata": {},
   "outputs": [
    {
     "data": {
      "text/plain": [
       "{'rodent': 0,\n",
       " 'squirrel': 1,\n",
       " 'rabbit': 2,\n",
       " 'bird': 3,\n",
       " 'deer': 4,\n",
       " 'raccoon': 5,\n",
       " 'coyote': 6,\n",
       " 'opossum': 7,\n",
       " 'other': 8,\n",
       " 'empty': 9}"
      ]
     },
     "execution_count": 11,
     "metadata": {},
     "output_type": "execute_result"
    }
   ],
   "source": [
    "classes_dict"
   ]
  },
  {
   "cell_type": "code",
   "execution_count": 12,
   "metadata": {},
   "outputs": [],
   "source": [
    "orig_class = list(image_df_annot['category_name'].unique())\n",
    "new_class = [animal if animal in classes + ['empty'] else 'other' for animal in orig_class]\n",
    "prediction_class_map = dict(zip(orig_class, new_class))"
   ]
  },
  {
   "cell_type": "code",
   "execution_count": 13,
   "metadata": {},
   "outputs": [
    {
     "data": {
      "text/plain": [
       "{'empty': 'empty',\n",
       " 'rabbit': 'rabbit',\n",
       " 'bobcat': 'other',\n",
       " 'squirrel': 'squirrel',\n",
       " 'raccoon': 'raccoon',\n",
       " 'coyote': 'coyote',\n",
       " 'bird': 'bird',\n",
       " 'car': 'other',\n",
       " 'opossum': 'opossum',\n",
       " 'cow': 'other',\n",
       " 'skunk': 'other',\n",
       " 'dog': 'other',\n",
       " 'deer': 'deer',\n",
       " 'fox': 'other',\n",
       " 'cat': 'other',\n",
       " 'rodent': 'rodent',\n",
       " 'mountain_lion': 'other',\n",
       " 'lizard': 'other',\n",
       " 'badger': 'other',\n",
       " 'insect': 'other',\n",
       " 'pig': 'other',\n",
       " 'bat': 'other'}"
      ]
     },
     "execution_count": 13,
     "metadata": {},
     "output_type": "execute_result"
    }
   ],
   "source": [
    "prediction_class_map"
   ]
  },
  {
   "cell_type": "code",
   "execution_count": 14,
   "metadata": {},
   "outputs": [],
   "source": [
    "image_df_annot['category_name_model'] = image_df_annot['category_name'].map(prediction_class_map)\n",
    "image_df_annot['category_id_model'] = image_df_annot['category_name'].map(classes_dict)\n",
    "image_df_annot = image_df_annot.sample(frac=1, random_state=1)"
   ]
  },
  {
   "cell_type": "code",
   "execution_count": 15,
   "metadata": {},
   "outputs": [
    {
     "data": {
      "text/plain": [
       "category_name_model\n",
       "rodent        4272\n",
       "squirrel      4432\n",
       "bird          9521\n",
       "raccoon      10981\n",
       "deer         12191\n",
       "rabbit       12345\n",
       "coyote       16348\n",
       "opossum      16634\n",
       "other        30631\n",
       "empty       125745\n",
       "Name: image_id, dtype: int64"
      ]
     },
     "execution_count": 15,
     "metadata": {},
     "output_type": "execute_result"
    }
   ],
   "source": [
    "image_df_annot.groupby('category_name_model').image_id.count().sort_values()"
   ]
  },
  {
   "cell_type": "markdown",
   "metadata": {},
   "source": [
    "# Data Partition by Location"
   ]
  },
  {
   "cell_type": "code",
   "execution_count": 9,
   "metadata": {},
   "outputs": [],
   "source": [
    "# download suggested split from data website\n",
    "url = 'https://lilablobssc.blob.core.windows.net/caltechcameratraps/CaltechCameraTrapsSplits_v0.json'\n",
    "split = requests.get(url).json()\n",
    "\n",
    "# use suggested split for test\n",
    "train_val_loc = sorted(list(set(split['splits']['train'])))\n",
    "test_loc = sorted(list(set(split['splits']['val'])))\n",
    "\n",
    "# furthur split training and validation\n",
    "train_val_loc = shuffle(train_val_loc, random_state=2)\n",
    "train_loc = train_val_loc[:60]\n",
    "val_loc = train_val_loc[60:]"
   ]
  },
  {
   "cell_type": "code",
   "execution_count": 16,
   "metadata": {},
   "outputs": [],
   "source": [
    "data_train = image_df_annot[image_df_annot['location'].isin(train_loc)]\n",
    "data_val = image_df_annot[image_df_annot['location'].isin(val_loc)]\n",
    "data_test = image_df_annot[image_df_annot['location'].isin(test_loc)]"
   ]
  },
  {
   "cell_type": "code",
   "execution_count": 17,
   "metadata": {},
   "outputs": [
    {
     "name": "stdout",
     "output_type": "stream",
     "text": [
      "(115212, 15)\n",
      "(65478, 15)\n",
      "(62410, 15)\n"
     ]
    }
   ],
   "source": [
    "print(data_train.shape)\n",
    "print(data_val.shape)\n",
    "print(data_test.shape)"
   ]
  },
  {
   "cell_type": "code",
   "execution_count": 18,
   "metadata": {},
   "outputs": [],
   "source": [
    "# get image vector\n",
    "img_vector_train = list('data/cct_images/' + data_train['image_id'] + '.jpg')\n",
    "img_vector_val = list('data/cct_images/' + data_val['image_id'] + '.jpg')\n",
    "img_vector_test = list('data/cct_images/' + data_test['image_id'] + '.jpg')"
   ]
  },
  {
   "cell_type": "code",
   "execution_count": 19,
   "metadata": {},
   "outputs": [],
   "source": [
    "# get category vector\n",
    "cat_name_vector_train = list(data_train['category_name_model'])\n",
    "cat_id_vector_train = list(data_train['category_id_model'])\n",
    "\n",
    "cat_name_vector_val = list(data_val['category_name_model'])\n",
    "cat_id_vector_val = list(data_val['category_id_model'])\n",
    "\n",
    "cat_name_vector_test = list(data_test['category_name_model'])\n",
    "cat_id_vector_test = list(data_test['category_id_model'])"
   ]
  },
  {
   "cell_type": "code",
   "execution_count": 20,
   "metadata": {},
   "outputs": [
    {
     "name": "stdout",
     "output_type": "stream",
     "text": [
      "Category: deer\n"
     ]
    },
    {
     "data": {
      "image/png": "[encoded data removed]",
      "text/plain": [
       "<Figure size 432x288 with 1 Axes>"
      ]
     },
     "metadata": {
      "needs_background": "light"
     },
     "output_type": "display_data"
    }
   ],
   "source": [
    "id = 5\n",
    "show_image(img_vector_train[id], cat_name_vector_train[id])"
   ]
  },
  {
   "cell_type": "markdown",
   "metadata": {},
   "source": [
    "# Encode Images with InceptionV3 For Faster Training"
   ]
  },
  {
   "cell_type": "code",
   "execution_count": 21,
   "metadata": {},
   "outputs": [],
   "source": [
    "# Get the InceptionV3 model trained on imagenet data\n",
    "inception_v3 = InceptionV3(weights='imagenet')\n",
    "\n",
    "# Take -3 layer with shape (8,8,2048)\n",
    "inception_v3_body = Model(inception_v3.input, inception_v3.layers[-3].output)"
   ]
  },
  {
   "cell_type": "code",
   "execution_count": 22,
   "metadata": {},
   "outputs": [
    {
     "data": {
      "text/plain": [
       "<tf.Tensor 'mixed10/Identity:0' shape=(None, 8, 8, 2048) dtype=float32>"
      ]
     },
     "execution_count": 22,
     "metadata": {},
     "output_type": "execute_result"
    }
   ],
   "source": [
    "inception_v3_body.output"
   ]
  },
  {
   "cell_type": "code",
   "execution_count": 23,
   "metadata": {},
   "outputs": [],
   "source": [
    "def load_image_for_inception(image_path):\n",
    "    img = tf.io.read_file(image_path)\n",
    "    img = tf.image.decode_jpeg(img, channels=3)\n",
    "    img = tf.image.resize(img, (299, 299))\n",
    "    img = preprocess_input(img)\n",
    "    return img, image_path"
   ]
  },
  {
   "cell_type": "code",
   "execution_count": null,
   "metadata": {},
   "outputs": [],
   "source": [
    "image_dataset = tf.data.Dataset.from_tensor_slices(img_vector_train)\n",
    "image_dataset = image_dataset.map(load_image_for_inception, \n",
    "                                  num_parallel_calls=tf.data.experimental.AUTOTUNE).batch(64)\n",
    "\n",
    "for img, path in tqdm(image_dataset):\n",
    "    batch_features = inception_v3_body(img)\n",
    "    #batch_features = tf.reshape(batch_features,(tf.shape(batch_features)[0], -1, tf.shape(batch_features)[3]))\n",
    "\n",
    "    for bf, p in zip(batch_features, path):\n",
    "        path_of_feature = p.numpy().decode(\"utf-8\").replace('cct_images','test')\n",
    "        np.save(path_of_feature, bf.numpy())\n",
    "        \n",
    "# 115212 images, 64 batch size, expect 1801 batches"
   ]
  },
  {
   "cell_type": "code",
   "execution_count": null,
   "metadata": {},
   "outputs": [],
   "source": [
    "image_dataset = tf.data.Dataset.from_tensor_slices(img_vector_val)\n",
    "image_dataset = image_dataset.map(load_image_for_inception, \n",
    "                                  num_parallel_calls=tf.data.experimental.AUTOTUNE).batch(64)\n",
    "\n",
    "for img, path in tqdm(image_dataset):\n",
    "    batch_features = inception_v3_body(img)\n",
    "    #batch_features = tf.reshape(batch_features,(tf.shape(batch_features)[0], -1, tf.shape(batch_features)[3]))\n",
    "\n",
    "    for bf, p in zip(batch_features, path):\n",
    "        path_of_feature = p.numpy().decode(\"utf-8\").replace('cct_images','test')\n",
    "        np.save(path_of_feature, bf.numpy())\n",
    "        \n",
    "# 65478 images, 64 batch size, expect 1024 batches"
   ]
  },
  {
   "cell_type": "code",
   "execution_count": null,
   "metadata": {},
   "outputs": [],
   "source": [
    "image_dataset = tf.data.Dataset.from_tensor_slices(img_vector_test)\n",
    "image_dataset = image_dataset.map(load_image_for_inception, \n",
    "                                  num_parallel_calls=tf.data.experimental.AUTOTUNE).batch(64)\n",
    "\n",
    "for img, path in tqdm(image_dataset):\n",
    "    batch_features = inception_v3_body(img)\n",
    "    #batch_features = tf.reshape(batch_features,(tf.shape(batch_features)[0], -1, tf.shape(batch_features)[3]))\n",
    "\n",
    "    for bf, p in zip(batch_features, path):\n",
    "        path_of_feature = p.numpy().decode(\"utf-8\").replace('cct_images','test')\n",
    "        np.save(path_of_feature, bf.numpy())\n",
    "        \n",
    "# 62410 images, 64 batch size, expect 976 batches"
   ]
  },
  {
   "cell_type": "markdown",
   "metadata": {},
   "source": [
    "# Modeling - Transfer Learning with InceptionV3"
   ]
  },
  {
   "cell_type": "code",
   "execution_count": null,
   "metadata": {},
   "outputs": [],
   "source": [
    "# take InceptionV3 without last layer\n",
    "# model_transfer = InceptionV3(weights='imagenet', include_top=False, input_shape=(299, 299, 3))"
   ]
  },
  {
   "cell_type": "code",
   "execution_count": null,
   "metadata": {},
   "outputs": [],
   "source": [
    "# add new trainable last layer and build model\n",
    "transfer_input = Input(shape=(8,8,2048))\n",
    "#x = Conv2D(1024, (3, 3), padding='same', activation='relu')(transfer_input)\n",
    "#x = Conv2D(512, (3, 3), padding='same', activation='relu')(x)\n",
    "x = GlobalAveragePooling2D()(transfer_input)\n",
    "x = Dropout(0.2)(x)\n",
    "#x = BatchNormalization()(x)\n",
    "x = Dense(256, activation=\"relu\")(x)\n",
    "#x = BatchNormalization()(x)\n",
    "x = Dense(15, activation=\"softmax\")(x)\n",
    "model = Model(transfer_input, x)"
   ]
  },
  {
   "cell_type": "code",
   "execution_count": null,
   "metadata": {},
   "outputs": [],
   "source": [
    "model.summary()"
   ]
  },
  {
   "cell_type": "code",
   "execution_count": null,
   "metadata": {},
   "outputs": [],
   "source": [
    "# compile model\n",
    "model.compile(optimizer='rmsprop', loss='sparse_categorical_crossentropy', metrics = ['accuracy'])"
   ]
  },
  {
   "cell_type": "markdown",
   "metadata": {},
   "source": [
    "### Generator Functions"
   ]
  },
  {
   "cell_type": "code",
   "execution_count": null,
   "metadata": {},
   "outputs": [],
   "source": [
    "def load_encoding(path):\n",
    "    return np.load(path.replace('cct_images', 'test') + '.npy')"
   ]
  },
  {
   "cell_type": "code",
   "execution_count": null,
   "metadata": {},
   "outputs": [],
   "source": [
    "def generator_encoded(X_data, y_data, batch_size):\n",
    "    i = 0\n",
    "    while True:\n",
    "        X_batch = []\n",
    "        y_batch = []\n",
    "        \n",
    "        for b in range(batch_size):\n",
    "            if i >= len(X_data):\n",
    "                i = 0\n",
    "                \n",
    "            X = load_encoding(X_data[i])\n",
    "            y = y_data[i]\n",
    "            X_batch.append(X)\n",
    "            y_batch.append(y)\n",
    "            i += 1\n",
    "            \n",
    "        yield np.array(X_batch), np.array(y_batch)"
   ]
  },
  {
   "cell_type": "markdown",
   "metadata": {},
   "source": [
    "### Train Model"
   ]
  },
  {
   "cell_type": "code",
   "execution_count": null,
   "metadata": {},
   "outputs": [],
   "source": [
    "# test on 1024 images\n",
    "sample_x_train = img_vector_train[:2048]\n",
    "sample_y_train = cat_id_vector_train[:2048]\n",
    "\n",
    "sample_x_val = img_vector_val[:64]\n",
    "sample_y_val = cat_id_vector_val[:64]"
   ]
  },
  {
   "cell_type": "code",
   "execution_count": null,
   "metadata": {},
   "outputs": [],
   "source": [
    "# train model with encoded data - much faster\n",
    "# full data\n",
    "EPOCH = 10\n",
    "BATCH_SIZE = 64\n",
    "TRAIN_STEPS = len(img_vector_train)//BATCH_SIZE\n",
    "VAL_STEPS = len(img_vector_val)//BATCH_SIZE\n",
    "\n",
    "train_generator = generator_encoded(img_vector_train, cat_id_vector_train, BATCH_SIZE)\n",
    "val_generator = generator_encoded(img_vector_val, cat_id_vector_val, BATCH_SIZE)\n",
    "\n",
    "for i in range(EPOCH):\n",
    "    model.fit_generator(generator=train_generator, \\\n",
    "                        validation_data=val_generator,\\\n",
    "                        validation_steps=VAL_STEPS, \\\n",
    "                        steps_per_epoch=TRAIN_STEPS, \\\n",
    "                        epochs=1, verbose=1,\\\n",
    "                        use_multiprocessing=True)\n",
    "    model.save('./weights/model_1/model_' + str(i) + '.h5')"
   ]
  },
  {
   "cell_type": "markdown",
   "metadata": {},
   "source": [
    "# Prediction on Test Set"
   ]
  },
  {
   "cell_type": "code",
   "execution_count": null,
   "metadata": {},
   "outputs": [],
   "source": [
    "predicted_id = []\n",
    "predicted_name = []\n",
    "for i in img_vector_test:\n",
    "    pred_id = model.predict(load_encoding(i).reshape(1, 8, 8, 2048))\n",
    "    pred_name = classes_dict_lookup[pred_id.argmax()]\n",
    "    predicted_id.append(pred_id)\n",
    "    predicted_name.append(pred_name)\n",
    "\n",
    "# save prediction\n",
    "with open('data/predicted_id.pkl', 'wb') as f:\n",
    "    pickle.dump(predicted_id, f)\n",
    "with open('data/predicted_name.pkl', 'wb') as f:\n",
    "    pickle.dump(predicted_name, f)"
   ]
  },
  {
   "cell_type": "code",
   "execution_count": null,
   "metadata": {},
   "outputs": [],
   "source": [
    "from sklearn.metrics import precision_recall_fscore_support\n",
    "evaluation1 = precision_recall_fscore_support(cat_name_vector_test, predicted_name, average='macro')\n",
    "evaluation2 = precision_recall_fscore_support(cat_name_vector_test, predicted_name, average='weighted')"
   ]
  },
  {
   "cell_type": "code",
   "execution_count": null,
   "metadata": {},
   "outputs": [],
   "source": [
    "print(evaluation1)\n",
    "print(evaluation2)"
   ]
  }
 ],
 "metadata": {
  "kernelspec": {
   "display_name": "Python 3",
   "language": "python",
   "name": "python3"
  },
  "language_info": {
   "codemirror_mode": {
    "name": "ipython",
    "version": 3
   },
   "file_extension": ".py",
   "mimetype": "text/x-python",
   "name": "python",
   "nbconvert_exporter": "python",
   "pygments_lexer": "ipython3",
   "version": "3.7.4"
  }
 },
 "nbformat": 4,
 "nbformat_minor": 2
}
